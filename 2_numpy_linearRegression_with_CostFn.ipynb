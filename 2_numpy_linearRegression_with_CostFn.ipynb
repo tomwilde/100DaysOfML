{
  "nbformat": 4,
  "nbformat_minor": 0,
  "metadata": {
    "colab": {
      "name": "2. numpy linearRegression-with-CostFn.ipynb",
      "version": "0.3.2",
      "provenance": [],
      "collapsed_sections": [],
      "include_colab_link": true
    }
  },
  "cells": [
    {
      "cell_type": "markdown",
      "metadata": {
        "id": "view-in-github",
        "colab_type": "text"
      },
      "source": [
        "[View in Colaboratory](https://colab.research.google.com/github/tomwilde/100DaysOfMLCode/blob/master/2_numpy_linearRegression_with_CostFn.ipynb)"
      ]
    },
    {
      "metadata": {
        "id": "uGj866x894dU",
        "colab_type": "code",
        "colab": {}
      },
      "cell_type": "code",
      "source": [
        "!pip install -U -q PyDrive\n",
        "\n",
        "import numpy as np\n",
        "import matplotlib.pyplot as plt\n",
        "import pandas\n",
        "import io\n",
        "\n",
        "\n",
        "# Install the PyDrive wrapper & import libraries.\n",
        "# This only needs to be done once per notebook.\n",
        "!pip install -U -q PyDrive\n",
        "from pydrive.auth import GoogleAuth\n",
        "from pydrive.drive import GoogleDrive\n",
        "from google.colab import auth\n",
        "from oauth2client.client import GoogleCredentials\n",
        "\n",
        "# Authenticate and create the PyDrive client.\n",
        "# This only needs to be done once per notebook.\n",
        "auth.authenticate_user()\n",
        "gauth = GoogleAuth()\n",
        "gauth.credentials = GoogleCredentials.get_application_default()\n",
        "drive = GoogleDrive(gauth)\n",
        "\n"
      ],
      "execution_count": 0,
      "outputs": []
    },
    {
      "metadata": {
        "id": "gWzKgdQ_quIn",
        "colab_type": "code",
        "colab": {}
      },
      "cell_type": "code",
      "source": [
        "# from: https://ml-cheatsheet.readthedocs.io/en/latest/linear_regression.html#cost-function\n",
        "#\n",
        "# We need a cost fn and its derivative..."
      ],
      "execution_count": 0,
      "outputs": []
    },
    {
      "metadata": {
        "id": "0iseVC0tsiLY",
        "colab_type": "code",
        "colab": {}
      },
      "cell_type": "code",
      "source": [
        "# Download a file based on its file ID.\n",
        "#\n",
        "# A file ID looks like: laggVyWshwcyP6kEI-y_W3P8D26sz\n",
        "file_id = '1_d2opSoZgMsSeoQUjtOcRQj5l0zO-Upi'\n",
        "downloaded = drive.CreateFile({'id': file_id})\n",
        "#print('Downloaded content \"{}\"'.format(downloaded.GetContentString()))\n",
        "\n",
        "dataset = pandas.read_csv(io.StringIO(downloaded.GetContentString())).as_matrix()"
      ],
      "execution_count": 0,
      "outputs": []
    },
    {
      "metadata": {
        "id": "QN3AlsHEq4vY",
        "colab_type": "code",
        "colab": {}
      },
      "cell_type": "code",
      "source": [
        "def cost_function(X, y, weight, bias):\n",
        "    n = len(X)\n",
        "    total_error = 0.0\n",
        "    for i in range(n):\n",
        "        total_error += (y[i] - (weight*X[i] + bias))**2\n",
        "    return total_error / n"
      ],
      "execution_count": 0,
      "outputs": []
    },
    {
      "metadata": {
        "id": "RzXqnjCdrkVF",
        "colab_type": "code",
        "colab": {}
      },
      "cell_type": "code",
      "source": [
        "def update_weights(X, y, weight, bias, alpha):\n",
        "    weight_deriv = 0\n",
        "    bias_deriv = 0\n",
        "    n = len(X)\n",
        "\n",
        "    for i in range(n):\n",
        "        # Calculate partial derivatives\n",
        "        # -2x(y - (mx + b))\n",
        "        weight_deriv += -2*X[i] * (y[i] - (weight * X[i] + bias))\n",
        "\n",
        "        # -2(y - (mx + b))\n",
        "        bias_deriv += -2*(y[i] - (weight * X[i] + bias))\n",
        "\n",
        "    # We subtract because the derivatives point in direction of steepest ascent\n",
        "    weight -= (weight_deriv / n) * alpha\n",
        "    bias -= (bias_deriv / n) * alpha\n",
        "\n",
        "    return weight, bias"
      ],
      "execution_count": 0,
      "outputs": []
    },
    {
      "metadata": {
        "id": "A__9KcUnsJwA",
        "colab_type": "code",
        "colab": {}
      },
      "cell_type": "code",
      "source": [
        "def train(X, y, weight, bias, alpha, iters):\n",
        "    cost_history = []\n",
        "\n",
        "    for i in range(iters):\n",
        "        weight,bias = update_weights(X, y, weight, bias, alpha)\n",
        "\n",
        "        #Calculate cost for auditing purposes\n",
        "        cost = cost_function(X, y, weight, bias)\n",
        "        # cost_history.append(cost)\n",
        "\n",
        "        # Log Progress\n",
        "        if i % 10 == 0:\n",
        "          print \"iter: \"+str(i) + \" weight: \"+str(weight) +\" bias: \"+str(bias) + \" cost: \"+str(cost)\n",
        "\n",
        "    return weight, bias #, cost_history"
      ],
      "execution_count": 0,
      "outputs": []
    },
    {
      "metadata": {
        "id": "Wt9FkvTRwGcl",
        "colab_type": "code",
        "colab": {
          "base_uri": "https://localhost:8080/",
          "height": 347
        },
        "outputId": "f5c9ed85-d99c-42b2-f323-52639b40e516"
      },
      "cell_type": "code",
      "source": [
        "# work out \n",
        "y = dataset[:,4].reshape(200,1)\n",
        "X = dataset[:,1].reshape(200,1)\n",
        "\n",
        "m = 0\n",
        "c = 0\n",
        "\n",
        "alpha = 0.1\n",
        "iters = 100\n",
        "\n",
        "# normalise the data\n",
        "y = y/np.linalg.norm(y, ord=np.inf, axis=0, keepdims=True)\n",
        "X = X/np.linalg.norm(X, ord=np.inf, axis=0, keepdims=True)"
      ],
      "execution_count": 253,
      "outputs": [
        {
          "output_type": "display_data",
          "data": {
            "image/png": "[encoded data removed]",
            "text/plain": [
              "<matplotlib.figure.Figure at 0x7ff393c5f050>"
            ]
          },
          "metadata": {
            "tags": []
          }
        }
      ]
    },
    {
      "metadata": {
        "id": "EhqtTlYn1gTi",
        "colab_type": "code",
        "colab": {
          "base_uri": "https://localhost:8080/",
          "height": 187
        },
        "outputId": "0de12002-360c-44ff-9d14-fcb4a3fef2ff"
      },
      "cell_type": "code",
      "source": [
        "weight, bias = train(X, y, m, c, alpha, iters)"
      ],
      "execution_count": 256,
      "outputs": [
        {
          "output_type": "stream",
          "text": [
            "iter: 0 weight: [0.06024246] bias: [0.10387037] cost: [0.18089265]\n",
            "iter: 10 weight: [0.25442336] bias: [0.38069542] cost: [0.02054556]\n",
            "iter: 20 weight: [0.29515622] bias: [0.37969695] cost: [0.01875648]\n",
            "iter: 30 weight: [0.32379468] bias: [0.36560545] cost: [0.0177426]\n",
            "iter: 40 weight: [0.34848476] bias: [0.35255119] cost: [0.01696661]\n",
            "iter: 50 weight: [0.37007888] bias: [0.3410839] cost: [0.01637189]\n",
            "iter: 60 weight: [0.38898224] bias: [0.33104279] cost: [0.01591609]\n",
            "iter: 70 weight: [0.40553104] bias: [0.32225223] cost: [0.01556676]\n",
            "iter: 80 weight: [0.42001862] bias: [0.31455656] cost: [0.01529904]\n",
            "iter: 90 weight: [0.43270172] bias: [0.30781941] cost: [0.01509385]\n"
          ],
          "name": "stdout"
        }
      ]
    },
    {
      "metadata": {
        "id": "kPhOsFs43HtC",
        "colab_type": "code",
        "colab": {
          "base_uri": "https://localhost:8080/",
          "height": 347
        },
        "outputId": "9dd671e7-6ca4-415b-c0e6-dcda9dc40175"
      },
      "cell_type": "code",
      "source": [
        "_ = plt.plot(X,y, 'o', [0, 1], [bias, weight + bias], '-')"
      ],
      "execution_count": 268,
      "outputs": [
        {
          "output_type": "display_data",
          "data": {
            "image/png": "[encoded data removed]",
            "text/plain": [
              "<matplotlib.figure.Figure at 0x7ff397af1690>"
            ]
          },
          "metadata": {
            "tags": []
          }
        }
      ]
    },
    {
      "metadata": {
        "id": "FEuwsrNkFo_G",
        "colab_type": "code",
        "colab": {}
      },
      "cell_type": "code",
      "source": [
        ""
      ],
      "execution_count": 0,
      "outputs": []
    }
  ]
}