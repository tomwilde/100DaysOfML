{
  "nbformat": 4,
  "nbformat_minor": 0,
  "metadata": {
    "colab": {
      "name": "3. numpy linearMultiVariateRegression.ipynb",
      "version": "0.3.2",
      "provenance": [],
      "collapsed_sections": [],
      "include_colab_link": true
    }
  },
  "cells": [
    {
      "cell_type": "markdown",
      "metadata": {
        "id": "view-in-github",
        "colab_type": "text"
      },
      "source": [
        "[View in Colaboratory](https://colab.research.google.com/github/tomwilde/100DaysOfMLCode/blob/master/3_numpy_linearMultiVariateRegression.ipynb)"
      ]
    },
    {
      "metadata": {
        "id": "uGj866x894dU",
        "colab_type": "code",
        "colab": {}
      },
      "cell_type": "code",
      "source": [
        "!pip install -U -q PyDrive\n",
        "\n",
        "import numpy as np\n",
        "import matplotlib.pyplot as plt\n",
        "from mpl_toolkits.mplot3d.axes3d import Axes3D\n",
        "from matplotlib import cm\n",
        "import pandas\n",
        "import io\n",
        "\n",
        "\n",
        "# Install the PyDrive wrapper & import libraries.\n",
        "# This only needs to be done once per notebook.\n",
        "!pip install -U -q PyDrive\n",
        "from pydrive.auth import GoogleAuth\n",
        "from pydrive.drive import GoogleDrive\n",
        "from google.colab import auth\n",
        "from oauth2client.client import GoogleCredentials\n",
        "\n",
        "# Authenticate and create the PyDrive client.\n",
        "# This only needs to be done once per notebook.\n",
        "auth.authenticate_user()\n",
        "gauth = GoogleAuth()\n",
        "gauth.credentials = GoogleCredentials.get_application_default()\n",
        "drive = GoogleDrive(gauth)"
      ],
      "execution_count": 0,
      "outputs": []
    },
    {
      "metadata": {
        "id": "gWzKgdQ_quIn",
        "colab_type": "code",
        "colab": {}
      },
      "cell_type": "code",
      "source": [
        "# from: https://ml-cheatsheet.readthedocs.io/en/latest/linear_regression.html#multivariable-regression\n",
        "#\n",
        "# We need a cost fn and its derivative..."
      ],
      "execution_count": 0,
      "outputs": []
    },
    {
      "metadata": {
        "id": "0iseVC0tsiLY",
        "colab_type": "code",
        "colab": {}
      },
      "cell_type": "code",
      "source": [
        "# Download a file based on its file ID.\n",
        "#\n",
        "# A file ID looks like: laggVyWshwcyP6kEI-y_W3P8D26sz\n",
        "file_id = '1_d2opSoZgMsSeoQUjtOcRQj5l0zO-Upi' # Advertising.csv\n",
        "downloaded = drive.CreateFile({'id': file_id})\n",
        "#print('Downloaded content \"{}\"'.format(downloaded.GetContentString()))\n",
        "\n",
        "dataset = pandas.read_csv(io.StringIO(downloaded.GetContentString())).as_matrix()"
      ],
      "execution_count": 0,
      "outputs": []
    },
    {
      "metadata": {
        "id": "QN3AlsHEq4vY",
        "colab_type": "code",
        "colab": {}
      },
      "cell_type": "code",
      "source": [
        "def cost_function(features, targets, weights):\n",
        "    N = len(targets)\n",
        "\n",
        "    predictions = predict(features, weights)\n",
        "\n",
        "    # Matrix math lets use do this without looping\n",
        "    sq_error = (predictions - targets)**2\n",
        "\n",
        "    # Return average squared error among predictions\n",
        "    return 1.0/(2*N) * sq_error.sum()"
      ],
      "execution_count": 0,
      "outputs": []
    },
    {
      "metadata": {
        "id": "9sd4fkwZQ_KO",
        "colab_type": "code",
        "colab": {}
      },
      "cell_type": "code",
      "source": [
        "def predict(features, weights):\n",
        "  return np.dot(features,weights)"
      ],
      "execution_count": 0,
      "outputs": []
    },
    {
      "metadata": {
        "id": "RzXqnjCdrkVF",
        "colab_type": "code",
        "colab": {}
      },
      "cell_type": "code",
      "source": [
        "def update_weights_vectorized(X, targets, weights, lr):\n",
        "    companies = len(X)\n",
        "\n",
        "    #1 - Get Predictions\n",
        "    predictions = predict(X, weights)\n",
        "\n",
        "    #2 - Calculate error/loss\n",
        "    error = targets - predictions\n",
        "\n",
        "    #3 Transpose features from (200, 3) to (3, 200)\n",
        "    # So we can multiply w the (200,1)  error matrix.\n",
        "    # Returns a (3,1) matrix holding 3 partial derivatives --\n",
        "    # one for each feature -- representing the aggregate\n",
        "    # slope of the cost function across all observations\n",
        "    gradient = np.dot(-X.T,  error)\n",
        "\n",
        "    #4 Take the average error derivative for each feature\n",
        "    gradient /= companies\n",
        "\n",
        "    #5 - Multiply the gradient by our learning rate\n",
        "    gradient *= lr\n",
        "\n",
        "    #6 - Subtract from our weights to minimize cost\n",
        "    weights -= gradient\n",
        "\n",
        "    return weights"
      ],
      "execution_count": 0,
      "outputs": []
    },
    {
      "metadata": {
        "id": "A__9KcUnsJwA",
        "colab_type": "code",
        "colab": {}
      },
      "cell_type": "code",
      "source": [
        "def train(X, y, weights, alpha, iters):\n",
        "    cost_history = []\n",
        "\n",
        "    for i in range(iters):\n",
        "        weights = update_weights_vectorized(X, y, weights, alpha)\n",
        "\n",
        "        # Calculate cost for auditing purposes\n",
        "        cost = cost_function(X, y, weights)\n",
        "\n",
        "        # Log Progress\n",
        "        if i % 100 == 0:\n",
        "          print \"iter: \"+str(i) + \" cost: \"+str(cost)\n",
        "    return weights\n"
      ],
      "execution_count": 0,
      "outputs": []
    },
    {
      "metadata": {
        "id": "Wt9FkvTRwGcl",
        "colab_type": "code",
        "colab": {}
      },
      "cell_type": "code",
      "source": [
        "# work it out \n",
        "y = dataset[:,4].reshape(200,1)\n",
        "X = dataset[:,[1,2]].reshape(200,2)\n",
        "\n",
        "weights = np.ones((3,1))\n",
        "c = 0\n",
        "\n",
        "alpha = 0.005\n",
        "iters = 1000\n",
        "\n",
        "# normalise the data\n",
        "bias = np.ones(shape=(200,1))\n",
        "y = y/np.linalg.norm(y, ord=np.inf, axis=0, keepdims=True)\n",
        "X = X/np.linalg.norm(X, ord=np.inf, axis=0, keepdims=True)\n",
        "X = np.append(bias, X, axis=1)\n",
        "               "
      ],
      "execution_count": 0,
      "outputs": []
    },
    {
      "metadata": {
        "id": "EhqtTlYn1gTi",
        "colab_type": "code",
        "colab": {
          "base_uri": "https://localhost:8080/",
          "height": 238
        },
        "outputId": "2bbcdb05-4518-41d0-d6d5-c0b046f256c3"
      },
      "cell_type": "code",
      "source": [
        "weights = train(X, y, weights, alpha, iters)\n",
        "print(weights)"
      ],
      "execution_count": 20,
      "outputs": [
        {
          "output_type": "stream",
          "text": [
            "iter: 0 cost: 1.0620039644495907\n",
            "iter: 100 cost: 0.23891384784811767\n",
            "iter: 200 cost: 0.05553498853369302\n",
            "iter: 300 cost: 0.014633274820046414\n",
            "iter: 400 cost: 0.005467607163534063\n",
            "iter: 500 cost: 0.0033741170231745546\n",
            "iter: 600 cost: 0.002859520656557491\n",
            "iter: 700 cost: 0.0027001051802395216\n",
            "iter: 800 cost: 0.002623070129855546\n",
            "iter: 900 cost: 0.0025674158583251982\n",
            "[[0.05202777]\n",
            " [0.49953975]\n",
            " [0.46207218]]\n"
          ],
          "name": "stdout"
        }
      ]
    },
    {
      "metadata": {
        "id": "kPhOsFs43HtC",
        "colab_type": "code",
        "colab": {
          "base_uri": "https://localhost:8080/",
          "height": 622
        },
        "outputId": "d0f8f5ca-8073-4419-c992-75ef913d8c19"
      },
      "cell_type": "code",
      "source": [
        "# set up a figure twice as wide as it is tall\n",
        "fig = plt.figure(figsize=plt.figaspect(0.5))\n",
        "\n",
        "# set up the axes for the first plot\n",
        "ax = fig.add_subplot(1, 2, 1, projection='3d')\n",
        "\n",
        "x1 = X.T[0]\n",
        "y1 = X.T[1]\n",
        "z1 = y\n",
        "\n",
        "# surf = ax.plot_surface(x1, y1, z1, rstride=5, cstride=5, linewidth=0, antialiased=False)\n",
        "\n",
        "ax.scatter3D(x1, y1, z1);\n",
        "\n",
        "# we wantz to combine plots\n",
        "plt.hold(True)\n",
        "\n",
        "# now plot our prediction\n",
        "# eqn of the form: pz = a*py + b*px + c\n",
        "\n",
        "predictions = []\n",
        "\n",
        "for a in range(0, 10):\n",
        "    for b in range(0, 10):\n",
        "        features = np.array([a/10, b/10, 0]).reshape(1, 3)\n",
        "        zp = predict(features, weights)\n",
        "        predictions.append([a/10, b/10 , zp[0][0]])\n",
        "\n",
        "preds = np.array(predictions)\n",
        "\n",
        "min = preds[:,2].min()\n",
        "max = preds[:,2].max()\n",
        "\n",
        "preds[:,2] = preds[:,2] / max\n",
        "\n",
        "x2 = preds[:, 0].reshape(100, 1)\n",
        "y2 = preds[:, 1].reshape(100, 1)\n",
        "z2 = preds[:, 2].reshape(100, 1)\n",
        "\n",
        "print(x1.shape)\n",
        "print(x2.shape)\n",
        "\n",
        "print(y1.shape)\n",
        "print(y2.shape)\n",
        "\n",
        "print(z1.shape)\n",
        "print(z2.shape)\n",
        "\n",
        "ax.scatter3D(x2, y2, z2)\n",
        "plt.show()\n"
      ],
      "execution_count": 21,
      "outputs": [
        {
          "output_type": "stream",
          "text": [
            "(200,)\n",
            "(100, 1)\n",
            "(200,)\n",
            "(100, 1)\n",
            "(200, 1)\n",
            "(100, 1)\n"
          ],
          "name": "stdout"
        },
        {
          "output_type": "stream",
          "text": [
            "/usr/local/lib/python2.7/dist-packages/ipykernel_launcher.py:15: MatplotlibDeprecationWarning: pyplot.hold is deprecated.\n",
            "    Future behavior will be consistent with the long-time default:\n",
            "    plot commands add elements without first clearing the\n",
            "    Axes and/or Figure.\n",
            "  from ipykernel import kernelapp as app\n",
            "/usr/local/lib/python2.7/dist-packages/matplotlib/__init__.py:805: MatplotlibDeprecationWarning: axes.hold is deprecated. Please remove it from your matplotlibrc and/or style files.\n",
            "  mplDeprecation)\n",
            "/usr/local/lib/python2.7/dist-packages/matplotlib/rcsetup.py:155: MatplotlibDeprecationWarning: axes.hold is deprecated, will be removed in 3.0\n",
            "  mplDeprecation)\n",
            "/usr/local/lib/python2.7/dist-packages/ipykernel_launcher.py:33: RuntimeWarning: invalid value encountered in divide\n"
          ],
          "name": "stderr"
        },
        {
          "output_type": "display_data",
          "data": {
            "image/png": "[encoded data removed]",
            "text/plain": [
              "<matplotlib.figure.Figure at 0x7f0686bb6610>"
            ]
          },
          "metadata": {
            "tags": []
          }
        }
      ]
    },
    {
      "metadata": {
        "id": "FEuwsrNkFo_G",
        "colab_type": "code",
        "colab": {}
      },
      "cell_type": "code",
      "source": [
        ""
      ],
      "execution_count": 0,
      "outputs": []
    }
  ]
}