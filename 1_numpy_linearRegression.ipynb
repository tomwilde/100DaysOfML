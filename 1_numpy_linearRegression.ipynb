{
  "nbformat": 4,
  "nbformat_minor": 0,
  "metadata": {
    "colab": {
      "name": "1. numpy linearRegression.ipynb",
      "version": "0.3.2",
      "provenance": [],
      "collapsed_sections": [],
      "include_colab_link": true
    },
    "kernelspec": {
      "name": "python3",
      "display_name": "Python 3"
    }
  },
  "cells": [
    {
      "cell_type": "markdown",
      "metadata": {
        "id": "view-in-github",
        "colab_type": "text"
      },
      "source": [
        "[View in Colaboratory](https://colab.research.google.com/github/tomwilde/100DaysOfMLCode/blob/master/1_numpy_linearRegression.ipynb)"
      ]
    },
    {
      "metadata": {
        "id": "hJmDes-zuAk3",
        "colab_type": "code",
        "colab": {}
      },
      "cell_type": "code",
      "source": [
        "import numpy as np\n",
        "import matplotlib.pyplot as plt"
      ],
      "execution_count": 0,
      "outputs": []
    },
    {
      "metadata": {
        "id": "u_rtOjv2uoT-",
        "colab_type": "code",
        "colab": {}
      },
      "cell_type": "code",
      "source": [
        "# Linear regression is essentially fitting the gradient and offset of the line eqn: y = mx + c\n",
        "# We seek to minimise the error by generating a bets fit to the data..."
      ],
      "execution_count": 0,
      "outputs": []
    },
    {
      "metadata": {
        "id": "9OiPbGCWweKg",
        "colab_type": "code",
        "colab": {}
      },
      "cell_type": "code",
      "source": [
        "# Nice guide a: https://glowingpython.blogspot.com/2012/03/linear-regression-with-numpy.html\n",
        "# Nice guide b: https://machinelearningmastery.com/implement-simple-linear-regression-scratch-python"
      ],
      "execution_count": 0,
      "outputs": []
    },
    {
      "metadata": {
        "id": "jHtwPKIKwljK",
        "colab_type": "code",
        "colab": {}
      },
      "cell_type": "code",
      "source": [
        "# So, ahem, borrowing some code/data"
      ],
      "execution_count": 0,
      "outputs": []
    },
    {
      "metadata": {
        "id": "GqN2Z19XxDmW",
        "colab_type": "code",
        "colab": {}
      },
      "cell_type": "code",
      "source": [
        "x = np.arange(0,9)\n",
        "y = [19, 20, 20.5, 21.5, 22, 23, 23, 25.5, 24]"
      ],
      "execution_count": 0,
      "outputs": []
    },
    {
      "metadata": {
        "id": "m6Hpz34bxEDu",
        "colab_type": "code",
        "colab": {}
      },
      "cell_type": "code",
      "source": [
        "# Algebra, see wikipedia: https://en.wikipedia.org/wiki/Simple_linear_regression\n",
        "# (its a standard sln)\n",
        "#\n",
        "# m = sum((x(i) - mean(x)) * (y(i) - mean(y))) / sum( (x(i) - mean(x))^2 )\n",
        "# c = mean(y) - m * mean(x)"
      ],
      "execution_count": 0,
      "outputs": []
    },
    {
      "metadata": {
        "id": "ldg3v50Yy9AP",
        "colab_type": "code",
        "colab": {}
      },
      "cell_type": "code",
      "source": [
        "def mean(lst):\n",
        "  return np.mean(lst)\n",
        "\n",
        "def sum(lst):\n",
        "  return np.sum(lst)"
      ],
      "execution_count": 0,
      "outputs": []
    },
    {
      "metadata": {
        "id": "AYVm0xWKzmti",
        "colab_type": "code",
        "colab": {}
      },
      "cell_type": "code",
      "source": [
        "def m(x, y):\n",
        "  return sum((x - mean(y)) * (y - mean(y))) / sum(np.power(x - mean(x), 2))\n",
        "\n",
        "def c(x, y, m_val):\n",
        "  return mean(y) - (m_val * mean(x))"
      ],
      "execution_count": 0,
      "outputs": []
    },
    {
      "metadata": {
        "id": "ySe0IGA20gU7",
        "colab_type": "code",
        "colab": {}
      },
      "cell_type": "code",
      "source": [
        "m_final = m(x,y)\n",
        "c_final = c(x,y,m_final)"
      ],
      "execution_count": 0,
      "outputs": []
    },
    {
      "metadata": {
        "id": "H-BY4na208uR",
        "colab_type": "code",
        "colab": {
          "base_uri": "https://localhost:8080/",
          "height": 34
        },
        "outputId": "d8d1f80c-566a-4a0d-bb90-98d0ec93a579"
      },
      "cell_type": "code",
      "source": [
        "print(str(m_final) + \" \" + str(c_final))"
      ],
      "execution_count": 69,
      "outputs": [
        {
          "output_type": "stream",
          "text": [
            "0.7166666666666709 19.188888888888872\n"
          ],
          "name": "stdout"
        }
      ]
    },
    {
      "metadata": {
        "id": "VLzAUwBx19FE",
        "colab_type": "code",
        "colab": {
          "base_uri": "https://localhost:8080/",
          "height": 347
        },
        "outputId": "9311ddf3-e708-4240-e8bb-9fcd7cd9e061"
      },
      "cell_type": "code",
      "source": [
        "_ = plt.plot(x,y, '-', np.arange(0,9), m_final * np.arange(9) + c_final, '-')\n",
        "\n",
        "# and: Lo we have a a shiny best fit line"
      ],
      "execution_count": 70,
      "outputs": [
        {
          "output_type": "display_data",
          "data": {
            "image/png": "[encoded data removed]",
            "text/plain": [
              "<matplotlib.figure.Figure at 0x7f512c33c7f0>"
            ]
          },
          "metadata": {
            "tags": []
          }
        }
      ]
    },
    {
      "metadata": {
        "id": "Qd8JlDC43YX4",
        "colab_type": "code",
        "colab": {}
      },
      "cell_type": "code",
      "source": [
        "\n",
        "# But... this isnt using a cost function or gradient descent."
      ],
      "execution_count": 0,
      "outputs": []
    },
    {
      "metadata": {
        "id": "_w5Gm6WGnflx",
        "colab_type": "code",
        "colab": {}
      },
      "cell_type": "code",
      "source": [
        ""
      ],
      "execution_count": 0,
      "outputs": []
    }
  ]
}