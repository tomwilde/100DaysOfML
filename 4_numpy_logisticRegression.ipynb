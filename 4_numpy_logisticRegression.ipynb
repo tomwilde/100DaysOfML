{
  "nbformat": 4,
  "nbformat_minor": 0,
  "metadata": {
    "colab": {
      "name": "4. numpy logisticRegression.ipynb",
      "version": "0.3.2",
      "provenance": [],
      "collapsed_sections": [],
      "include_colab_link": true
    }
  },
  "cells": [
    {
      "cell_type": "markdown",
      "metadata": {
        "id": "view-in-github",
        "colab_type": "text"
      },
      "source": [
        "[View in Colaboratory](https://colab.research.google.com/github/tomwilde/100DaysOfMLCode/blob/master/4_numpy_logisticRegression.ipynb)"
      ]
    },
    {
      "metadata": {
        "id": "uGj866x894dU",
        "colab_type": "code",
        "colab": {}
      },
      "cell_type": "code",
      "source": [
        "!pip install -U -q PyDrive\n",
        "\n",
        "import numpy as np\n",
        "import matplotlib.pyplot as plt\n",
        "import pandas\n",
        "import io\n",
        "import math\n",
        "\n",
        "\n",
        "# Install the PyDrive wrapper & import libraries.\n",
        "# This only needs to be done once per notebook.\n",
        "!pip install -U -q PyDrive\n",
        "from pydrive.auth import GoogleAuth\n",
        "from pydrive.drive import GoogleDrive\n",
        "from google.colab import auth\n",
        "from oauth2client.client import GoogleCredentials\n",
        "\n",
        "# Authenticate and create the PyDrive client.\n",
        "# This only needs to be done once per notebook.\n",
        "auth.authenticate_user()\n",
        "gauth = GoogleAuth()\n",
        "gauth.credentials = GoogleCredentials.get_application_default()\n",
        "drive = GoogleDrive(gauth)"
      ],
      "execution_count": 0,
      "outputs": []
    },
    {
      "metadata": {
        "id": "gWzKgdQ_quIn",
        "colab_type": "code",
        "colab": {}
      },
      "cell_type": "code",
      "source": [
        "# from: https://ml-cheatsheet.readthedocs.io/en/latest/logistic_regression.html\n",
        "#\n",
        "# wheras linear regression provides a linear response / output logistic regression uses the sigmoid fn to project this as a classification\n",
        "# => eg: what's my projected test score vs will I pass? (of *course* I'll pass!)\n",
        "#\n",
        "# A note of loss fns: we could use MSE here but actually we'll use Log-loss aka Cross-Entropy \n",
        "#                     (these push the classification either way using a log fn to get more pronounced results - better than simple MSE)\n"
      ],
      "execution_count": 0,
      "outputs": []
    },
    {
      "metadata": {
        "id": "0iseVC0tsiLY",
        "colab_type": "code",
        "colab": {}
      },
      "cell_type": "code",
      "source": [
        "# Download a file based on its file ID.\n",
        "#\n",
        "# A file ID looks like: laggVyWshwcyP6kEI-y_W3P8D26sz\n",
        "file_id = '1_d2opSoZgMsSeoQUjtOcRQj5l0zO-Upi'\n",
        "downloaded = drive.CreateFile({'id': file_id})\n",
        "#print('Downloaded content \"{}\"'.format(downloaded.GetContentString()))\n",
        "\n",
        "dataset = pandas.read_csv(io.StringIO(downloaded.GetContentString())).as_matrix()"
      ],
      "execution_count": 0,
      "outputs": []
    },
    {
      "metadata": {
        "id": "hVzBsTEtDCnI",
        "colab_type": "code",
        "colab": {}
      },
      "cell_type": "code",
      "source": [
        "def sigmoid(z):\n",
        "  return 1 / (1 + np.exp(-1 * z))"
      ],
      "execution_count": 0,
      "outputs": []
    },
    {
      "metadata": {
        "id": "9sd4fkwZQ_KO",
        "colab_type": "code",
        "colab": {}
      },
      "cell_type": "code",
      "source": [
        "def predict(features, weights):\n",
        "  \n",
        "  z = np.dot(features, weights)\n",
        "  return sigmoid(z) # tadaa"
      ],
      "execution_count": 0,
      "outputs": []
    },
    {
      "metadata": {
        "id": "QN3AlsHEq4vY",
        "colab_type": "code",
        "colab": {}
      },
      "cell_type": "code",
      "source": [
        "def cost_function(features, labels, weights):\n",
        "    '''\n",
        "    Using Mean Absolute Error\n",
        "\n",
        "    Features:(100,3)\n",
        "    Labels: (100,1)\n",
        "    Weights:(3,1)\n",
        "    Returns 1D matrix of predictions\n",
        "    Cost = ( log(predictions) + (1-labels)*log(1-predictions) ) / len(labels)\n",
        "    '''\n",
        "    observations = len(labels)\n",
        "\n",
        "    predictions = predict(features, weights)\n",
        "\n",
        "    #Take the error when label=1\n",
        "    class1_cost = -labels*np.log(predictions)\n",
        "\n",
        "    #Take the error when label=0\n",
        "    class2_cost = (1-labels)*np.log(1-predictions)\n",
        "\n",
        "    #Take the sum of both costs\n",
        "    cost = class1_cost - class2_cost\n",
        "\n",
        "    #Take the average cost\n",
        "    cost = cost.sum()/observations\n",
        "\n",
        "    return cost"
      ],
      "execution_count": 0,
      "outputs": []
    },
    {
      "metadata": {
        "id": "RzXqnjCdrkVF",
        "colab_type": "code",
        "colab": {}
      },
      "cell_type": "code",
      "source": [
        "def update_weights(features, labels, weights, lr):\n",
        "    '''\n",
        "    Vectorized Gradient Descent\n",
        "\n",
        "    Features:(200, 3)\n",
        "    Labels: (200, 1)\n",
        "    Weights:(3, 1)\n",
        "    '''\n",
        "    N = len(features)\n",
        "\n",
        "    #1 - Get Predictions\n",
        "    predictions = predict(features, weights)\n",
        "\n",
        "    #2 Transpose features from (200, 3) to (3, 200)\n",
        "    # So we can multiply w the (200,1)  cost matrix.\n",
        "    # Returns a (3,1) matrix holding 3 partial derivatives --\n",
        "    # one for each feature -- representing the aggregate\n",
        "    # slope of the cost function across all observations\n",
        "    gradient = np.dot(features.T,  predictions - labels)\n",
        "\n",
        "    #3 Take the average cost derivative for each feature\n",
        "    gradient /= N\n",
        "\n",
        "    #4 - Multiply the gradient by our learning rate\n",
        "    gradient *= lr\n",
        "\n",
        "    #5 - Subtract from our weights to minimize cost\n",
        "    weights -= gradient\n",
        "\n",
        "    return weights"
      ],
      "execution_count": 0,
      "outputs": []
    },
    {
      "metadata": {
        "id": "x2NwHKYvFXIn",
        "colab_type": "code",
        "colab": {}
      },
      "cell_type": "code",
      "source": [
        "def decision_boundary(prob):\n",
        "  return 1 if prob >= .5 else 0"
      ],
      "execution_count": 0,
      "outputs": []
    },
    {
      "metadata": {
        "id": "PA9krduQFX-b",
        "colab_type": "code",
        "colab": {}
      },
      "cell_type": "code",
      "source": [
        "def classify(preds):\n",
        "  '''\n",
        "  input  - N element array of predictions between 0 and 1\n",
        "  output - N element array of 0s (False) and 1s (True)\n",
        "  '''\n",
        "  decision_boundary = np.vectorize(decision_boundary)\n",
        "  return decision_boundary(predictions).flatten()"
      ],
      "execution_count": 0,
      "outputs": []
    },
    {
      "metadata": {
        "id": "RXNO9XOPFpjs",
        "colab_type": "code",
        "colab": {}
      },
      "cell_type": "code",
      "source": [
        "def accuracy(predicted_labels, actual_labels):\n",
        "    diff = predicted_labels - actual_labels\n",
        "    return 1.0 - (float(np.count_nonzero(diff)) / len(diff))"
      ],
      "execution_count": 0,
      "outputs": []
    },
    {
      "metadata": {
        "id": "A__9KcUnsJwA",
        "colab_type": "code",
        "colab": {}
      },
      "cell_type": "code",
      "source": [
        "def train(X, y, weights, alpha, iters):\n",
        "    cost_history = []\n",
        "\n",
        "    for i in range(iters):\n",
        "        weights = update_weights(X, y, weights, alpha)\n",
        "\n",
        "        # Calculate cost for auditing purposes\n",
        "        cost = cost_function(X, y, weights)\n",
        "\n",
        "        # Log Progress\n",
        "        if i % 100 == 0:\n",
        "          print \"iter: \"+str(i) + \" cost: \"+str(cost)\n",
        "    return weights\n"
      ],
      "execution_count": 0,
      "outputs": []
    },
    {
      "metadata": {
        "id": "Wt9FkvTRwGcl",
        "colab_type": "code",
        "colab": {}
      },
      "cell_type": "code",
      "source": [
        "# work out \n",
        "y = dataset[:,4].reshape(200,1)\n",
        "X = dataset[:,[1,2,3]].reshape(200,3)\n",
        "\n",
        "weights = np.ones((4,1))\n",
        "c = 0\n",
        "\n",
        "alpha = 0.005\n",
        "iters = 1000\n",
        "\n",
        "# normalise the data\n",
        "bias = np.ones(shape=(200,1))\n",
        "y = y/np.linalg.norm(y, ord=np.inf, axis=0, keepdims=True)\n",
        "X = X/np.linalg.norm(X, ord=np.inf, axis=0, keepdims=True)\n",
        "X = np.append(bias, X, axis=1)\n",
        "               "
      ],
      "execution_count": 0,
      "outputs": []
    },
    {
      "metadata": {
        "id": "EhqtTlYn1gTi",
        "colab_type": "code",
        "colab": {
          "base_uri": "https://localhost:8080/",
          "height": 255
        },
        "outputId": "c53841ee-00b1-465c-d457-321f59d2029c"
      },
      "cell_type": "code",
      "source": [
        "weights = train(X, y, weights, alpha, iters)\n",
        "print(weights)"
      ],
      "execution_count": 28,
      "outputs": [
        {
          "output_type": "stream",
          "text": [
            "iter: 0 cost: 1.1005739568644821\n",
            "iter: 100 cost: 1.0092836915135524\n",
            "iter: 200 cost: 0.9313752320848429\n",
            "iter: 300 cost: 0.8668320665520409\n",
            "iter: 400 cost: 0.8149097104824443\n",
            "iter: 500 cost: 0.7742740960060958\n",
            "iter: 600 cost: 0.7432376087767796\n",
            "iter: 700 cost: 0.7200110539267996\n",
            "iter: 800 cost: 0.7029045681424619\n",
            "iter: 900 cost: 0.690448773656554\n",
            "[[-0.17586268]\n",
            " [ 0.57850873]\n",
            " [ 0.54502072]\n",
            " [ 0.68972199]]\n"
          ],
          "name": "stdout"
        }
      ]
    },
    {
      "metadata": {
        "id": "kPhOsFs43HtC",
        "colab_type": "code",
        "colab": {
          "base_uri": "https://localhost:8080/",
          "height": 347
        },
        "outputId": "46ec4fc6-7572-4313-eda0-8a814f506475"
      },
      "cell_type": "code",
      "source": [
        "_ = plt.plot(X,y, 'o')"
      ],
      "execution_count": 29,
      "outputs": [
        {
          "output_type": "display_data",
          "data": {
            "image/png": "[encoded data removed]",
            "text/plain": [
              "<matplotlib.figure.Figure at 0x7f72304c9610>"
            ]
          },
          "metadata": {
            "tags": []
          }
        }
      ]
    },
    {
      "metadata": {
        "id": "FEuwsrNkFo_G",
        "colab_type": "code",
        "colab": {}
      },
      "cell_type": "code",
      "source": [
        ""
      ],
      "execution_count": 0,
      "outputs": []
    }
  ]
}